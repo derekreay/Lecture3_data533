{
 "cells": [
  {
   "cell_type": "code",
   "execution_count": 4,
   "metadata": {},
   "outputs": [
    {
     "name": "stdout",
     "output_type": "stream",
     "text": [
      "Name: James. T Age: 23 Team: Tigers Role: Player\n",
      "Salary: 36000\n"
     ]
    }
   ],
   "source": [
    "class personnel:\n",
    "    def __init__(self, name, age, team, role, salary):\n",
    "        self.name = name\n",
    "        self.age = age\n",
    "        self.team = team\n",
    "        self.role = role\n",
    "        self.__salary = salary\n",
    "        \n",
    "    def display(self):\n",
    "        print(\"Name:\", self.name, \"Age:\", self.age, \"Team:\", self.team, \"Role:\", self.role)\n",
    "        \n",
    "    def getSalary(self):\n",
    "        print(\"Salary:\", self.__salary)\n",
    "        \n",
    "per1 = personnel(\"James. T\", 23, \"Tigers\", \"Player\", 36000)\n",
    "per1.display()\n",
    "per1.getSalary()"
   ]
  },
  {
   "cell_type": "code",
   "execution_count": 86,
   "metadata": {},
   "outputs": [
    {
     "name": "stdout",
     "output_type": "stream",
     "text": [
      "Name: James. T Age: 23 Team: Tigers Role: Player\n",
      "At bats: 76 Hits: 25 Doubles: 6 Triples: 0 Home Runs: 5 Walks: 5\n",
      "[0.87347821 0.31440697 0.4277274  0.47349033 0.85510535 0.68905372\n",
      " 0.85293685 0.86316089 0.45910065 0.95750239]\n",
      "[0.25518021]\n"
     ]
    },
    {
     "data": {
      "text/plain": [
       "[0, 1, 0, 0, 0, 0, 0, 0, 0, 0]"
      ]
     },
     "execution_count": 86,
     "metadata": {},
     "output_type": "execute_result"
    }
   ],
   "source": [
    "class batter(personnel):\n",
    "    def __init__(self, name, age, team, role, salary, atbats, hits, doubles, triples, HR, walks):\n",
    "        personnel.__init__(self, name, age, team, role, salary)\n",
    "        self.atbats = atbats\n",
    "        self.hits = hits\n",
    "        self.doubles = doubles\n",
    "        self.triples = triples\n",
    "        self.hr = HR\n",
    "        self.walks = walks\n",
    "        \n",
    "    \n",
    "    def batavg(self):\n",
    "        if self.atbats == 0:\n",
    "            print(\"Cannot calculate batting average with no atbats\")\n",
    "        elif self.atbats < self.hits:\n",
    "            print(\"Incorrect input cannot have an average higher than 1 or more hits than atbats\")\n",
    "        else:\n",
    "            return self.hits/self.atbats\n",
    "    \n",
    "    def slugging(self):\n",
    "        try:\n",
    "            if self.atbats == 0:\n",
    "                print(\"Cannot calculated slugging percentage with no atbats\")\n",
    "            elif self.hits > self.atbats:\n",
    "                print(\"Cannot have more hits than atbats\")\n",
    "            else:\n",
    "                return (self.totalbase())/(self.atbats)\n",
    "        except:\n",
    "            pass\n",
    "\n",
    "    def onbase(self):\n",
    "        if self.atbats+self.walks == 0:\n",
    "            print(\"Cannot calculate onbase with no plate appearances or walks\")\n",
    "        elif self.hits > self.atbats:\n",
    "            print(\"Incorrect input cannot have an average higher than 1 or more hits than atbats\")\n",
    "        else:\n",
    "            return (self.hits+self.walks)/(self.atbats+self.walks)\n",
    "    \n",
    "    def obps(self):\n",
    "        return self.slugging()+self.onbase()\n",
    "    \n",
    "    def obps(self):\n",
    "        try:\n",
    "            return self.slugging()+self.onbase()\n",
    "        except:\n",
    "            pass\n",
    "    \n",
    "    def walkrate(self):\n",
    "        if self.atbats+self.walks == 0:\n",
    "            print(\"Cannot calculate walkrate with no plate appearances or walks\")\n",
    "        else:\n",
    "            return self.walks/(self.walks+self.atbats)\n",
    "    \n",
    "    def singles(self):\n",
    "        if self.doubles+self.triples+self.hr > self.hits:\n",
    "            print(\"Incorrect input cannot have more extra base hits than hits\")\n",
    "        else:\n",
    "            return (self.hits-self.doubles-self.triples-self.hr)\n",
    "    \n",
    "    def display(self):\n",
    "        personnel.display(self)\n",
    "        print(\"At bats:\", self.atbats, \"Hits:\", self.hits, \"Doubles:\", self.doubles, \"Triples:\", self.triples, \"Home Runs:\", self.hr, \"Walks:\", self.walks)\n",
    "    \n",
    "    def simplateappearances(self, plateappearances):\n",
    "        import numpy as np\n",
    "        outcome = []\n",
    "        j=np.random.rand(10)\n",
    "        print(j)\n",
    "\n",
    "        for i in range(0,len(j)):\n",
    "            if j[i] < self.batavg():\n",
    "                outcome.append(1)\n",
    "            else:\n",
    "                outcome.append(0)\n",
    "        \n",
    "        for i in range(0, len(outcome)):\n",
    "            if outcome[i] == 1:\n",
    "                test = np.random.rand(1)\n",
    "                print(test)\n",
    "                if test < self.singles()/self.hits:\n",
    "                    outcome[i] = 1\n",
    "                elif test < (self.singles()+self.doubles)/self.hits:\n",
    "                    outcome[i] = 2\n",
    "                elif test < (self.singles()+self.doubles+self.triples)/self.hits:\n",
    "                    outcome[i] = 3\n",
    "                else:\n",
    "                    outcome[i] = 4\n",
    "        \n",
    "        return outcome\n",
    "    \n",
    "        \n",
    "\n",
    "    \n",
    "    \n",
    "    \n",
    "per12 = batter(\"James. T\", 23, \"Tigers\", \"Player\", 36000, 76, 25, 6, 0, 5, 5)\n",
    "per12.display()\n",
    "per12.obps()\n",
    "per12.batavg()\n",
    "per12.slugging()\n",
    "\n",
    "per12.simplateappearances(10)\n"
   ]
  },
  {
   "cell_type": "code",
   "execution_count": 84,
   "metadata": {},
   "outputs": [
    {
     "name": "stdout",
     "output_type": "stream",
     "text": [
      "Cannot have more hits than atbats\n",
      "Incorrect input cannot have an average higher than 1 or more hits than atbats\n"
     ]
    }
   ],
   "source": [
    " \n",
    "def batavg(atbats, hits):\n",
    "    if atbats == 0:\n",
    "        print(\"Cannot calculate batting average with no atbats\")\n",
    "    elif atbats < hits:\n",
    "        print(\"Incorrect input cannot have an average higher than 1 or more hits than atbats\")\n",
    "    else:\n",
    "        return hits/atbats\n",
    "    \n",
    "def singles(hits, doubles, triples, HR):\n",
    "    if doubles+triples+HR > hits:\n",
    "        print(\"Incorrect input cannot have more extra base hits than hits\")\n",
    "    else:\n",
    "        return (hits-doubles-triples-HR)\n",
    "    \n",
    "def onbase(atbats, hits, walks):\n",
    "    if atbats+walks == 0:\n",
    "        print(\"Cannot calculate onbase with no plate appearances or walks\")\n",
    "    elif hits > atbats:\n",
    "        print(\"Incorrect input cannot have an average higher than 1 or more hits than atbats\")\n",
    "    else:\n",
    "        return (hits+walks)/(atbats+walks)\n",
    "\n",
    "def totalbase(hits, doubles, triples, HR):\n",
    "    try:\n",
    "        return (singles(hits, doubles, triples, HR)+ 2*doubles + 3*triples + 4*HR)\n",
    "    except:\n",
    "        pass\n",
    "       \n",
    "    \n",
    "def krate(atbats, K):\n",
    "    if atbats == 0:\n",
    "        print(\"cannot calculate a rate with no atbats\")\n",
    "    elif K > atbats:\n",
    "        print(\"Incorrect input cannot have more K than atbats\")\n",
    "    else:\n",
    "        return K/atbats\n",
    "\n",
    "\n",
    "def slugging(atbats, hits, doubles, triples, hr):\n",
    "    try:\n",
    "        if atbats == 0:\n",
    "            print(\"Cannot calculated slugging percentage with no atbats\")\n",
    "        elif hits > atbats:\n",
    "            print(\"Cannot have more hits than atbats\")\n",
    "        else:\n",
    "            return (totalbase(hits, doubles, triples, hr))/(atbats)\n",
    "    except:\n",
    "        pass\n",
    "\n",
    "#try except  \n",
    "def obps(atbats, hits, doubles, triples, hr, walks):\n",
    "    try:\n",
    "        return slugging(atbats, hits, doubles, triples, hr)+onbase(atbats, hits, walks)\n",
    "    except:\n",
    "        pass\n",
    "    \n",
    "def walkrate(atbats, walks):\n",
    "    if atbats+walks == 0:\n",
    "        print(\"Cannot calculate walkrate with no plate appearances or walks\")\n",
    "    else:\n",
    "        return walks/(walks+atbats)\n",
    "\n",
    "    \n",
    "obps(15, 16, 1, 1, 1, 1)"
   ]
  },
  {
   "cell_type": "code",
   "execution_count": 47,
   "metadata": {},
   "outputs": [
    {
     "name": "stdout",
     "output_type": "stream",
     "text": [
      "[0.63270751 0.56066405 0.91488775 0.28004299 0.5738465  0.43834402\n",
      " 0.07740677 0.75449679 0.16451309 0.12951681]\n"
     ]
    },
    {
     "data": {
      "text/plain": [
       "[0, 0, 0, 1, 0, 0, 1, 0, 1, 4]"
      ]
     },
     "execution_count": 47,
     "metadata": {},
     "output_type": "execute_result"
    }
   ],
   "source": []
  },
  {
   "cell_type": "code",
   "execution_count": null,
   "metadata": {},
   "outputs": [],
   "source": []
  },
  {
   "cell_type": "code",
   "execution_count": null,
   "metadata": {},
   "outputs": [],
   "source": []
  }
 ],
 "metadata": {
  "kernelspec": {
   "display_name": "Python 3",
   "language": "python",
   "name": "python3"
  },
  "language_info": {
   "codemirror_mode": {
    "name": "ipython",
    "version": 3
   },
   "file_extension": ".py",
   "mimetype": "text/x-python",
   "name": "python",
   "nbconvert_exporter": "python",
   "pygments_lexer": "ipython3",
   "version": "3.7.3"
  }
 },
 "nbformat": 4,
 "nbformat_minor": 2
}
