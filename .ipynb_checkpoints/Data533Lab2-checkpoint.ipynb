{
 "cells": [
  {
   "cell_type": "code",
   "execution_count": 4,
   "metadata": {},
   "outputs": [
    {
     "name": "stdout",
     "output_type": "stream",
     "text": [
      "Name: James. T Age: 23 Team: Tigers Role: Player\n",
      "Salary: 36000\n"
     ]
    }
   ],
   "source": [
    "class personnel:\n",
    "    def __init__(self, name, age, team, role, salary):\n",
    "        self.name = name\n",
    "        self.age = age\n",
    "        self.team = team\n",
    "        self.role = role\n",
    "        self.__salary = salary\n",
    "        \n",
    "    def display(self):\n",
    "        print(\"Name:\", self.name, \"Age:\", self.age, \"Team:\", self.team, \"Role:\", self.role)\n",
    "        \n",
    "    def getSalary(self):\n",
    "        print(\"Salary:\", self.__salary)"
   ]
  },
  {
   "cell_type": "code",
   "execution_count": 122,
   "metadata": {},
   "outputs": [
    {
     "name": "stdout",
     "output_type": "stream",
     "text": [
      "Name: James. T Age: 23 Team: Tigers Role: Player\n",
      "At bats: 76 Hits: 25 Doubles: 6 Triples: 0 Home Runs: 5 Walks: 5\n",
      "[0, 0, 2, 1, 4, 2, 0, 0, 4, 0]\n",
      "In 10 at bats: 1 singles, 2 doubles, 0 triples, 2 homeruns, for 5 total hits\n",
      "[10, 5, 2, 0, 2]\n"
     ]
    },
    {
     "data": {
      "text/plain": [
       "0.5"
      ]
     },
     "execution_count": 122,
     "metadata": {},
     "output_type": "execute_result"
    }
   ],
   "source": [
    "class batter(personnel):\n",
    "    def __init__(self, name, age, team, role, salary, atbats, hits, doubles, triples, HR, walks):\n",
    "        personnel.__init__(self, name, age, team, role, salary)\n",
    "        self.atbats = atbats\n",
    "        self.hits = hits\n",
    "        self.doubles = doubles\n",
    "        self.triples = triples\n",
    "        self.hr = HR\n",
    "        self.walks = walks\n",
    "        \n",
    "    \n",
    "    def batavg(self):\n",
    "        if self.atbats == 0:\n",
    "            print(\"Cannot calculate batting average with no atbats\")\n",
    "        elif self.atbats < self.hits:\n",
    "            print(\"Incorrect input cannot have an average higher than 1 or more hits than atbats\")\n",
    "        else:\n",
    "            return self.hits/self.atbats\n",
    "    \n",
    "    def slugging(self):\n",
    "        try:\n",
    "            if self.atbats == 0:\n",
    "                print(\"Cannot calculated slugging percentage with no atbats\")\n",
    "            elif self.hits > self.atbats:\n",
    "                print(\"Cannot have more hits than atbats\")\n",
    "            else:\n",
    "                return (self.totalbase())/(self.atbats)\n",
    "        except:\n",
    "            pass\n",
    "\n",
    "    def onbase(self):\n",
    "        if self.atbats+self.walks == 0:\n",
    "            print(\"Cannot calculate onbase with no plate appearances or walks\")\n",
    "        elif self.hits > self.atbats:\n",
    "            print(\"Incorrect input cannot have an average higher than 1 or more hits than atbats\")\n",
    "        else:\n",
    "            return (self.hits+self.walks)/(self.atbats+self.walks)\n",
    "    \n",
    "    def obps(self):\n",
    "        return self.slugging()+self.onbase()\n",
    "    \n",
    "    def obps(self):\n",
    "        try:\n",
    "            return self.slugging()+self.onbase()\n",
    "        except:\n",
    "            pass\n",
    "    \n",
    "    def walkrate(self):\n",
    "        if self.atbats+self.walks == 0:\n",
    "            print(\"Cannot calculate walkrate with no plate appearances or walks\")\n",
    "        else:\n",
    "            return self.walks/(self.walks+self.atbats)\n",
    "    \n",
    "    def singles(self):\n",
    "        if self.doubles+self.triples+self.hr > self.hits:\n",
    "            print(\"Incorrect input cannot have more extra base hits than hits\")\n",
    "        else:\n",
    "            return (self.hits-self.doubles-self.triples-self.hr)\n",
    "    \n",
    "    def display(self):\n",
    "        personnel.display(self)\n",
    "        print(\"At bats:\", self.atbats, \"Hits:\", self.hits, \"Doubles:\", self.doubles, \"Triples:\", self.triples, \"Home Runs:\", self.hr, \"Walks:\", self.walks)\n",
    "    \n",
    "    def simplateappearances(self, plateappearances):\n",
    "        import numpy as np\n",
    "        outcome = []\n",
    "        j=np.random.rand(10)\n",
    "\n",
    "        for i in range(0,len(j)):\n",
    "            if j[i] < self.batavg():\n",
    "                outcome.append(1)\n",
    "            else:\n",
    "                outcome.append(0)\n",
    "        \n",
    "        for i in range(0, len(outcome)):\n",
    "            if outcome[i] == 1:\n",
    "                test = np.random.rand(1)\n",
    "                if test < self.singles()/self.hits:\n",
    "                    outcome[i] = 1\n",
    "                elif test < (self.singles()+self.doubles)/self.hits:\n",
    "                    outcome[i] = 2\n",
    "                elif test < (self.singles()+self.doubles+self.triples)/self.hits:\n",
    "                    outcome[i] = 3\n",
    "                else:\n",
    "                    outcome[i] = 4\n",
    "        \n",
    "        return outcome\n",
    "    \n",
    "    def count(self, x):\n",
    "        singles = 0\n",
    "        doubles = 0\n",
    "        triples = 0\n",
    "        homeruns = 0\n",
    "        hits = 0\n",
    "        for i in x:\n",
    "            if i == 1:\n",
    "                singles += 1\n",
    "                hits += 1\n",
    "            elif i == 2:\n",
    "                doubles += 1\n",
    "                hits += 1\n",
    "            elif i == 3:\n",
    "                triples += 1\n",
    "                hits += 1\n",
    "            elif i == 4:\n",
    "                homeruns +=1\n",
    "                hits += 1\n",
    "        print(\"In\", len(x), \"at bats:\", singles, \"singles,\", doubles, \"doubles,\", triples, \"triples,\", homeruns, \"homeruns, for\", hits, \"total hits\")\n",
    "        y=[len(x), hits, doubles ,triples, homeruns]\n",
    "        return y\n",
    "    \n",
    "    \n",
    "\n",
    "    \n",
    "    \n",
    "    \n",
    "per12 = batter(\"James. T\", 23, \"Tigers\", \"Player\", 36000, 76, 25, 6, 0, 5, 5)\n",
    "per12.display()\n",
    "per12.obps()\n",
    "per12.batavg()\n",
    "per12.slugging()\n",
    "\n",
    "j = per12.simplateappearances(10)\n",
    "print(j)\n",
    "m = per12.count(j)\n",
    "print(m)\n",
    "slugging(10,4,1,0,0)"
   ]
  },
  {
   "cell_type": "code",
   "execution_count": 84,
   "metadata": {},
   "outputs": [
    {
     "name": "stdout",
     "output_type": "stream",
     "text": [
      "Cannot have more hits than atbats\n",
      "Incorrect input cannot have an average higher than 1 or more hits than atbats\n"
     ]
    }
   ],
   "source": [
    " def batavg(atbats, hits):\n",
    "    if atbats == 0:\n",
    "        print(\"Cannot calculate batting average with no atbats\")\n",
    "    elif atbats < hits:\n",
    "        print(\"Incorrect input cannot have an average higher than 1 or more hits than atbats\")\n",
    "    else:\n",
    "        return hits/atbats\n",
    "    \n",
    "def singles(hits, doubles, triples, HR):\n",
    "    if doubles+triples+HR > hits:\n",
    "        print(\"Incorrect input cannot have more extra base hits than hits\")\n",
    "    else:\n",
    "        return (hits-doubles-triples-HR)\n",
    "    \n",
    "def onbase(atbats, hits, walks):\n",
    "    if atbats+walks == 0:\n",
    "        print(\"Cannot calculate onbase with no plate appearances or walks\")\n",
    "    elif hits > atbats:\n",
    "        print(\"Incorrect input cannot have an average higher than 1 or more hits than atbats\")\n",
    "    else:\n",
    "        return (hits+walks)/(atbats+walks)\n",
    "\n",
    "def totalbase(hits, doubles, triples, HR):\n",
    "    try:\n",
    "        return (singles(hits, doubles, triples, HR)+ 2*doubles + 3*triples + 4*HR)\n",
    "    except:\n",
    "        pass\n",
    "       \n",
    "    \n",
    "def krate(atbats, K):\n",
    "    if atbats == 0:\n",
    "        print(\"cannot calculate a rate with no atbats\")\n",
    "    elif K > atbats:\n",
    "        print(\"Incorrect input cannot have more K than atbats\")\n",
    "    else:\n",
    "        return K/atbats\n",
    "\n",
    "\n",
    "def slugging(atbats, hits, doubles, triples, hr):\n",
    "    try:\n",
    "        if atbats == 0:\n",
    "            print(\"Cannot calculated slugging percentage with no atbats\")\n",
    "        elif hits > atbats:\n",
    "            print(\"Cannot have more hits than atbats\")\n",
    "        else:\n",
    "            return (totalbase(hits, doubles, triples, hr))/(atbats)\n",
    "    except:\n",
    "        pass\n",
    " \n",
    "def obps(atbats, hits, doubles, triples, hr, walks):\n",
    "    try:\n",
    "        return slugging(atbats, hits, doubles, triples, hr)+onbase(atbats, hits, walks)\n",
    "    except:\n",
    "        pass\n",
    "    \n",
    "def walkrate(atbats, walks):\n",
    "    if atbats+walks == 0:\n",
    "        print(\"Cannot calculate walkrate with no plate appearances or walks\")\n",
    "    else:\n",
    "        return walks/(walks+atbats)\n",
    "\n",
    "    \n",
    "obps(15, 16, 1, 1, 1, 1)"
   ]
  },
  {
   "cell_type": "code",
   "execution_count": 117,
   "metadata": {},
   "outputs": [
    {
     "data": {
      "text/plain": [
       "[2, 0, 4, 1, 0, 0, 0, 0, 0, 0]"
      ]
     },
     "execution_count": 117,
     "metadata": {},
     "output_type": "execute_result"
    }
   ],
   "source": [
    "x = per12.simplateappearances(10)\n",
    "x"
   ]
  },
  {
   "cell_type": "code",
   "execution_count": 118,
   "metadata": {},
   "outputs": [
    {
     "name": "stdout",
     "output_type": "stream",
     "text": [
      "In 10 at bats: 1 singles, 1 doubles, 0 triples, 1 homeruns, for 3 total hits\n"
     ]
    },
    {
     "data": {
      "text/plain": [
       "[10, 3, 1, 0, 1]"
      ]
     },
     "execution_count": 118,
     "metadata": {},
     "output_type": "execute_result"
    }
   ],
   "source": []
  },
  {
   "cell_type": "code",
   "execution_count": null,
   "metadata": {},
   "outputs": [],
   "source": [
    "      \n",
    "per1 = personnel(\"James. T\", 23, \"Tigers\", \"Player\", 36000)\n",
    "per1.display()\n",
    "per1.getSalary()"
   ]
  }
 ],
 "metadata": {
  "kernelspec": {
   "display_name": "Python 3",
   "language": "python",
   "name": "python3"
  },
  "language_info": {
   "codemirror_mode": {
    "name": "ipython",
    "version": 3
   },
   "file_extension": ".py",
   "mimetype": "text/x-python",
   "name": "python",
   "nbconvert_exporter": "python",
   "pygments_lexer": "ipython3",
   "version": "3.7.3"
  }
 },
 "nbformat": 4,
 "nbformat_minor": 2
}
