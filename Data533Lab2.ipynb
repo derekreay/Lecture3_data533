{
 "cells": [
  {
   "cell_type": "code",
   "execution_count": 4,
   "metadata": {},
   "outputs": [
    {
     "name": "stdout",
     "output_type": "stream",
     "text": [
      "Name: James. T Age: 23 Team: Tigers Position: Player\n",
      "Salary: 36000\n"
     ]
    }
   ],
   "source": [
    "class personnel:\n",
    "    def __init__(self, name, age, team, role, salary):\n",
    "        self.name = name\n",
    "        self.age = age\n",
    "        self.team = team\n",
    "        self.role = role\n",
    "        self.__salary = salary\n",
    "        \n",
    "    def display(self):\n",
    "        print(\"Name:\", self.name, \"Age:\", self.age, \"Team:\", self.team, \"Position:\", self.role)\n",
    "        \n",
    "    def getSalary(self):\n",
    "        print(\"Salary:\", self.__salary)\n",
    "        \n",
    "per1 = personnel(\"James. T\", 23, \"Tigers\", \"Player\", 36000)\n",
    "per1.display()\n",
    "per1.getSalary()"
   ]
  },
  {
   "cell_type": "code",
   "execution_count": null,
   "metadata": {},
   "outputs": [],
   "source": []
  }
 ],
 "metadata": {
  "kernelspec": {
   "display_name": "Python 3",
   "language": "python",
   "name": "python3"
  },
  "language_info": {
   "codemirror_mode": {
    "name": "ipython",
    "version": 3
   },
   "file_extension": ".py",
   "mimetype": "text/x-python",
   "name": "python",
   "nbconvert_exporter": "python",
   "pygments_lexer": "ipython3",
   "version": "3.7.3"
  }
 },
 "nbformat": 4,
 "nbformat_minor": 2
}
